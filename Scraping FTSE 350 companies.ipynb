{
 "cells": [
  {
   "cell_type": "code",
   "execution_count": 93,
   "metadata": {},
   "outputs": [],
   "source": [
    "import urllib.request\n",
    "import json\n",
    "from bs4 import BeautifulSoup\n",
    "from pprint import pprint\n",
    "from bs4 import BeautifulSoup\n",
    "import re"
   ]
  },
  {
   "cell_type": "code",
   "execution_count": 123,
   "metadata": {},
   "outputs": [],
   "source": [
    "l=[]\n",
    "n=[]\n",
    "for i in range(1,5):\n",
    "    url = r'http://www.hl.co.uk/shares/stock-market-summary/ftse-350?page='+str(i)\n",
    "    header = {'User-Agent': 'Mozilla/5.0 (Windows NT 10.0; Win64; x64) AppleWebKit/537.36 (KHTML, like Gecko) Chrome/66.0.3359.117 Safari/537.36'}\n",
    "    req=urllib.request.Request(url,headers=header)\n",
    "    data=urllib.request.urlopen(req)\n",
    "    soup = BeautifulSoup(data, 'html.parser')\n",
    "    b=str(soup)\n",
    "    z=re.findall('<td>([0-9A-Z.]+)</td>',b)  #ticker\n",
    "    x=re.findall('data-s-name=\"(.*)\" data-s',b)   #company name\n",
    "    for i in range (0,len(z)):     \n",
    "        l.append(z[i])\n",
    "    for j in range (0,len(x)):\n",
    "        n.append(x[j])\n",
    "fin=list(zip(n,l))   #after appending to two lists, zip the lists together."
   ]
  }
 ],
 "metadata": {
  "kernelspec": {
   "display_name": "Python 3",
   "language": "python",
   "name": "python3"
  },
  "language_info": {
   "codemirror_mode": {
    "name": "ipython",
    "version": 3
   },
   "file_extension": ".py",
   "mimetype": "text/x-python",
   "name": "python",
   "nbconvert_exporter": "python",
   "pygments_lexer": "ipython3",
   "version": "3.6.4"
  }
 },
 "nbformat": 4,
 "nbformat_minor": 2
}
